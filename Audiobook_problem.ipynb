{
  "nbformat": 4,
  "nbformat_minor": 0,
  "metadata": {
    "colab": {
      "name": "Audiobook_problem.ipynb",
      "provenance": [],
      "collapsed_sections": [],
      "authorship_tag": "ABX9TyPiFiwM2rkfFpHrdhre1n7t",
      "include_colab_link": true
    },
    "kernelspec": {
      "name": "python3",
      "display_name": "Python 3"
    },
    "language_info": {
      "name": "python"
    }
  },
  "cells": [
    {
      "cell_type": "markdown",
      "metadata": {
        "id": "view-in-github",
        "colab_type": "text"
      },
      "source": [
        "<a href=\"https://colab.research.google.com/github/Ronit-Wanare/Customer-Conversion-Classification-Model/blob/main/Audiobook_problem.ipynb\" target=\"_parent\"><img src=\"https://colab.research.google.com/assets/colab-badge.svg\" alt=\"Open In Colab\"/></a>"
      ]
    },
    {
      "cell_type": "markdown",
      "source": [
        "Importing libraries"
      ],
      "metadata": {
        "id": "YHjK-wYajQTN"
      }
    },
    {
      "cell_type": "code",
      "source": [
        "import numpy as np\n",
        "import pandas as pd\n",
        "from sklearn import preprocessing\n",
        "from google.colab import files\n",
        "import tensorflow as tf"
      ],
      "metadata": {
        "id": "dK9vIUcNjOvT"
      },
      "execution_count": null,
      "outputs": []
    },
    {
      "cell_type": "markdown",
      "source": [
        "Tranfering data and preprocessing"
      ],
      "metadata": {
        "id": "wBJDvWX0ei8D"
      }
    },
    {
      "cell_type": "code",
      "source": [
        "raw_csv_data = np.loadtxt('/content/Audiobooks_data.csv',delimiter=',')\n",
        "unscaled_input_all = raw_csv_data[:,1:-1]\n",
        "target_all = raw_csv_data[:,-1]"
      ],
      "metadata": {
        "id": "qQXdGZRykN3n"
      },
      "execution_count": null,
      "outputs": []
    },
    {
      "cell_type": "code",
      "source": [
        "unscaled_input_all"
      ],
      "metadata": {
        "id": "7FGp8jn4u0qB",
        "colab": {
          "base_uri": "https://localhost:8080/"
        },
        "outputId": "f6a86670-b720-4228-88c5-8c1c3c4e08f6"
      },
      "execution_count": null,
      "outputs": [
        {
          "output_type": "execute_result",
          "data": {
            "text/plain": [
              "array([[1620.  , 1620.  ,   19.73, ..., 1603.8 ,    5.  ,   92.  ],\n",
              "       [2160.  , 2160.  ,    5.33, ...,    0.  ,    0.  ,    0.  ],\n",
              "       [2160.  , 2160.  ,    5.33, ...,    0.  ,    0.  ,  388.  ],\n",
              "       ...,\n",
              "       [2160.  , 2160.  ,    6.14, ...,    0.  ,    0.  ,    0.  ],\n",
              "       [1620.  , 1620.  ,    5.33, ...,  615.6 ,    0.  ,   90.  ],\n",
              "       [1674.  , 3348.  ,    5.33, ...,    0.  ,    0.  ,    0.  ]])"
            ]
          },
          "metadata": {},
          "execution_count": 5
        }
      ]
    },
    {
      "cell_type": "markdown",
      "source": [
        "Balancing"
      ],
      "metadata": {
        "id": "b7xp-qgnjyeS"
      }
    },
    {
      "cell_type": "code",
      "source": [
        "num_one_targets = int(np.sum(target_all))\n",
        "zero_target_counter = 0\n",
        "indices_to_remove = []\n",
        "# for iteration\n",
        "for i in range(target_all.shape[0]):\n",
        "  if target_all[i] == 0:\n",
        "    zero_target_counter += 1\n",
        "    if zero_target_counter > num_one_targets:\n",
        "      indices_to_remove.append(i)\n",
        "# removing the indices\n",
        "unscaled_inputs_equal_priors = np.delete(unscaled_input_all,indices_to_remove,axis = 0)\n",
        "targets_equal_priors = np.delete(target_all,indices_to_remove,axis = 0)"
      ],
      "metadata": {
        "id": "4lTMCe5orJGR"
      },
      "execution_count": null,
      "outputs": []
    },
    {
      "cell_type": "markdown",
      "source": [
        "Standardising the input"
      ],
      "metadata": {
        "id": "f4Ee3fgdhn5F"
      }
    },
    {
      "cell_type": "code",
      "source": [
        "scaled_inputs = preprocessing.scale(unscaled_inputs_equal_priors)"
      ],
      "metadata": {
        "id": "kcF1yzEzhmFn"
      },
      "execution_count": null,
      "outputs": []
    },
    {
      "cell_type": "markdown",
      "source": [
        "shuffle the data"
      ],
      "metadata": {
        "id": "yqcR2ZUti_Ph"
      }
    },
    {
      "cell_type": "code",
      "source": [
        "shuffled_indices = np.arange(scaled_inputs.shape[0])\n",
        "np.random.shuffle(shuffled_indices)\n",
        "shuffled_inputs = scaled_inputs[shuffled_indices]\n",
        "shuffled_targets = targets_equal_priors[shuffled_indices]"
      ],
      "metadata": {
        "id": "lQioPYGOjDt0"
      },
      "execution_count": null,
      "outputs": []
    },
    {
      "cell_type": "markdown",
      "source": [
        "Spliting the data into train,validation and test sets"
      ],
      "metadata": {
        "id": "yEI4UoeilVj8"
      }
    },
    {
      "cell_type": "code",
      "source": [
        "sample_count = shuffled_inputs.shape[0]\n",
        "#defing sizes (80:10:10)\n",
        "train_sample_count = int(0.8 * sample_count)\n",
        "validation_sample_count = int(0.1 * sample_count)\n",
        "test_sample_count = sample_count - train_sample_count - validation_sample_count\n",
        "\n",
        "train_inputs = shuffled_inputs[:train_sample_count]\n",
        "train_targets = shuffled_targets[:train_sample_count]\n",
        "\n",
        "validation_inputs = shuffled_inputs[train_sample_count:train_sample_count + validation_sample_count]\n",
        "validation_targets = shuffled_targets[train_sample_count:train_sample_count + validation_sample_count]\n",
        "\n",
        "test_inputs = shuffled_inputs[train_sample_count + validation_sample_count:]\n",
        "test_targets = shuffled_targets[train_sample_count + validation_sample_count:]\n",
        "#checkiing the split\n",
        "print(np.sum(train_targets),train_sample_count, np.sum(train_targets)/train_sample_count)\n",
        "print(np.sum(validation_targets),validation_sample_count, np.sum(validation_targets)/validation_sample_count)\n",
        "print(np.sum(test_targets),test_sample_count, np.sum(test_targets)/test_sample_count)"
      ],
      "metadata": {
        "id": "r5KG4stDkA8i",
        "colab": {
          "base_uri": "https://localhost:8080/"
        },
        "outputId": "06f51b67-a6b6-4edd-b499-32d73a6246c5"
      },
      "execution_count": null,
      "outputs": [
        {
          "output_type": "stream",
          "name": "stdout",
          "text": [
            "1802.0 3579 0.5034925956971221\n",
            "217.0 447 0.4854586129753915\n",
            "218.0 448 0.48660714285714285\n"
          ]
        }
      ]
    },
    {
      "cell_type": "markdown",
      "source": [
        "Save the three datasets in .npz format\n"
      ],
      "metadata": {
        "id": "IcYE4fBvmnKJ"
      }
    },
    {
      "cell_type": "code",
      "source": [
        "np.savez('Audiobooks_data_train',inputs = train_inputs , outputs = train_targets)\n",
        "np.savez('Audiobooks_data_validation',inputs = validation_inputs , outputs = validation_targets)\n",
        "np.savez('Audiobooks_data_test',inputs = test_inputs , outputs = test_targets)"
      ],
      "metadata": {
        "id": "W32zO5K8mU0C"
      },
      "execution_count": null,
      "outputs": []
    },
    {
      "cell_type": "markdown",
      "source": [
        "CREATING ML ALGO"
      ],
      "metadata": {
        "id": "tCUSW-Abu1ca"
      }
    },
    {
      "cell_type": "markdown",
      "source": [
        "Data"
      ],
      "metadata": {
        "id": "rbs0ADTRuN8D"
      }
    },
    {
      "cell_type": "code",
      "source": [
        "# loading train dataset\n",
        "npz = np.load('/content/Audiobooks_data_train.npz')\n",
        "\n",
        "train_inputs = npz['inputs'].astype(np.float)\n",
        "train_targets = npz['outputs'].astype(int)\n",
        "# loading validation dataset\n",
        "npz = np.load('/content/Audiobooks_data_validation.npz')\n",
        "\n",
        "validation_inputs = npz['inputs'].astype(np.float)\n",
        "validation_targets = npz['outputs'].astype(int)\n",
        "\n",
        "# loading tst dataset\n",
        "npz = np.load('/content/Audiobooks_data_test.npz')\n",
        "\n",
        "test_inputs = npz['inputs'].astype(np.float)\n",
        "test_targets = npz['outputs'].astype(int)\n",
        "\n"
      ],
      "metadata": {
        "id": "spVuCsorqlZw",
        "colab": {
          "base_uri": "https://localhost:8080/"
        },
        "outputId": "2bf8560f-8496-469b-c818-3c043225c9d6"
      },
      "execution_count": null,
      "outputs": [
        {
          "output_type": "stream",
          "name": "stderr",
          "text": [
            "/usr/local/lib/python3.7/dist-packages/ipykernel_launcher.py:4: DeprecationWarning: `np.float` is a deprecated alias for the builtin `float`. To silence this warning, use `float` by itself. Doing this will not modify any behavior and is safe. If you specifically wanted the numpy scalar type, use `np.float64` here.\n",
            "Deprecated in NumPy 1.20; for more details and guidance: https://numpy.org/devdocs/release/1.20.0-notes.html#deprecations\n",
            "  after removing the cwd from sys.path.\n",
            "/usr/local/lib/python3.7/dist-packages/ipykernel_launcher.py:9: DeprecationWarning: `np.float` is a deprecated alias for the builtin `float`. To silence this warning, use `float` by itself. Doing this will not modify any behavior and is safe. If you specifically wanted the numpy scalar type, use `np.float64` here.\n",
            "Deprecated in NumPy 1.20; for more details and guidance: https://numpy.org/devdocs/release/1.20.0-notes.html#deprecations\n",
            "  if __name__ == '__main__':\n",
            "/usr/local/lib/python3.7/dist-packages/ipykernel_launcher.py:15: DeprecationWarning: `np.float` is a deprecated alias for the builtin `float`. To silence this warning, use `float` by itself. Doing this will not modify any behavior and is safe. If you specifically wanted the numpy scalar type, use `np.float64` here.\n",
            "Deprecated in NumPy 1.20; for more details and guidance: https://numpy.org/devdocs/release/1.20.0-notes.html#deprecations\n",
            "  from ipykernel import kernelapp as app\n"
          ]
        }
      ]
    },
    {
      "cell_type": "markdown",
      "source": [
        "Model"
      ],
      "metadata": {
        "id": "xAvvRVFcwV70"
      }
    },
    {
      "cell_type": "code",
      "source": [
        "input_size = 10\n",
        "output_size = 2\n",
        "hidden_layer_size = 50\n",
        "\n",
        "model = tf.keras.Sequential([\n",
        "            \n",
        "            tf.keras.layers.Dense(hidden_layer_size, activation='relu'),\n",
        "            tf.keras.layers.Dense(hidden_layer_size, activation='relu'),\n",
        "            tf.keras.layers.Dense(output_size, activation='softmax')\n",
        "])"
      ],
      "metadata": {
        "id": "TYnzcpLhsjpT"
      },
      "execution_count": null,
      "outputs": []
    },
    {
      "cell_type": "markdown",
      "source": [
        "Optimizer and Loss function"
      ],
      "metadata": {
        "id": "WSbs3aWww3-o"
      }
    },
    {
      "cell_type": "code",
      "source": [
        "model.compile(optimizer='adam',loss='sparse_categorical_crossentropy',metrics=['accuracy'])"
      ],
      "metadata": {
        "id": "_LCX3b5Nw3nB"
      },
      "execution_count": null,
      "outputs": []
    },
    {
      "cell_type": "markdown",
      "source": [
        "FIt the model"
      ],
      "metadata": {
        "id": "zLXoE4uCx5UN"
      }
    },
    {
      "cell_type": "code",
      "source": [
        "batch_size = 100\n",
        "max_epochs = 100\n",
        "\n",
        "early_stopping = tf.keras.callbacks.EarlyStopping(patience=2)\n",
        "\n",
        "model.fit(train_inputs,\n",
        "          train_targets,\n",
        "          batch_size = batch_size,\n",
        "          epochs = max_epochs,\n",
        "          callbacks = [early_stopping],\n",
        "          validation_data =(validation_inputs,validation_targets),\n",
        "          verbose=2)"
      ],
      "metadata": {
        "id": "FP1WwQcHx42b",
        "colab": {
          "base_uri": "https://localhost:8080/"
        },
        "outputId": "935f0e4b-f292-4eff-e578-cf99ad90b2a4"
      },
      "execution_count": null,
      "outputs": [
        {
          "output_type": "stream",
          "name": "stdout",
          "text": [
            "Epoch 1/100\n",
            "36/36 - 1s - loss: 0.5765 - accuracy: 0.7002 - val_loss: 0.4949 - val_accuracy: 0.7651 - 1s/epoch - 28ms/step\n",
            "Epoch 2/100\n",
            "36/36 - 0s - loss: 0.4598 - accuracy: 0.7700 - val_loss: 0.4208 - val_accuracy: 0.7718 - 89ms/epoch - 2ms/step\n",
            "Epoch 3/100\n",
            "36/36 - 0s - loss: 0.4140 - accuracy: 0.7754 - val_loss: 0.3890 - val_accuracy: 0.7987 - 150ms/epoch - 4ms/step\n",
            "Epoch 4/100\n",
            "36/36 - 0s - loss: 0.3916 - accuracy: 0.7879 - val_loss: 0.3782 - val_accuracy: 0.7875 - 103ms/epoch - 3ms/step\n",
            "Epoch 5/100\n",
            "36/36 - 0s - loss: 0.3757 - accuracy: 0.7969 - val_loss: 0.3605 - val_accuracy: 0.8121 - 99ms/epoch - 3ms/step\n",
            "Epoch 6/100\n",
            "36/36 - 0s - loss: 0.3664 - accuracy: 0.7999 - val_loss: 0.3524 - val_accuracy: 0.8210 - 91ms/epoch - 3ms/step\n",
            "Epoch 7/100\n",
            "36/36 - 0s - loss: 0.3583 - accuracy: 0.8064 - val_loss: 0.3462 - val_accuracy: 0.8255 - 97ms/epoch - 3ms/step\n",
            "Epoch 8/100\n",
            "36/36 - 0s - loss: 0.3546 - accuracy: 0.8036 - val_loss: 0.3491 - val_accuracy: 0.8188 - 104ms/epoch - 3ms/step\n",
            "Epoch 9/100\n",
            "36/36 - 0s - loss: 0.3491 - accuracy: 0.8050 - val_loss: 0.3440 - val_accuracy: 0.8121 - 145ms/epoch - 4ms/step\n",
            "Epoch 10/100\n",
            "36/36 - 0s - loss: 0.3457 - accuracy: 0.8064 - val_loss: 0.3394 - val_accuracy: 0.8121 - 90ms/epoch - 3ms/step\n",
            "Epoch 11/100\n",
            "36/36 - 0s - loss: 0.3453 - accuracy: 0.8094 - val_loss: 0.3336 - val_accuracy: 0.8277 - 104ms/epoch - 3ms/step\n",
            "Epoch 12/100\n",
            "36/36 - 0s - loss: 0.3402 - accuracy: 0.8117 - val_loss: 0.3339 - val_accuracy: 0.8233 - 89ms/epoch - 2ms/step\n",
            "Epoch 13/100\n",
            "36/36 - 0s - loss: 0.3379 - accuracy: 0.8139 - val_loss: 0.3300 - val_accuracy: 0.8389 - 111ms/epoch - 3ms/step\n",
            "Epoch 14/100\n",
            "36/36 - 0s - loss: 0.3353 - accuracy: 0.8148 - val_loss: 0.3276 - val_accuracy: 0.8412 - 107ms/epoch - 3ms/step\n",
            "Epoch 15/100\n",
            "36/36 - 0s - loss: 0.3346 - accuracy: 0.8142 - val_loss: 0.3272 - val_accuracy: 0.8300 - 94ms/epoch - 3ms/step\n",
            "Epoch 16/100\n",
            "36/36 - 0s - loss: 0.3315 - accuracy: 0.8170 - val_loss: 0.3305 - val_accuracy: 0.8143 - 111ms/epoch - 3ms/step\n",
            "Epoch 17/100\n",
            "36/36 - 0s - loss: 0.3313 - accuracy: 0.8117 - val_loss: 0.3352 - val_accuracy: 0.8188 - 104ms/epoch - 3ms/step\n"
          ]
        },
        {
          "output_type": "execute_result",
          "data": {
            "text/plain": [
              "<keras.callbacks.History at 0x7ff03e1a2850>"
            ]
          },
          "metadata": {},
          "execution_count": 14
        }
      ]
    },
    {
      "cell_type": "markdown",
      "source": [
        "Test the model"
      ],
      "metadata": {
        "id": "hauV_Q3a2Col"
      }
    },
    {
      "cell_type": "code",
      "source": [
        "test_loss,test_accuracy = model.evaluate(test_inputs,test_targets)\n",
        "print('Test loss: {0:.2f}.Test accuracy: {1:.2f}%'.format(test_loss, test_accuracy*100))\n"
      ],
      "metadata": {
        "id": "q8n79vVKydcb",
        "colab": {
          "base_uri": "https://localhost:8080/"
        },
        "outputId": "2713e22e-8585-41a5-8f05-9fcf6a894b7e"
      },
      "execution_count": null,
      "outputs": [
        {
          "output_type": "stream",
          "name": "stdout",
          "text": [
            "14/14 [==============================] - 0s 2ms/step - loss: 0.3056 - accuracy: 0.8460\n",
            "Test loss: 0.31.Test accuracy: 84.60%\n"
          ]
        }
      ]
    }
  ]
}